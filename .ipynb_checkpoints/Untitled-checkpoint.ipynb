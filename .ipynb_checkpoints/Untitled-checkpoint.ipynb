{
 "cells": [
  {
   "cell_type": "code",
   "execution_count": 1,
   "id": "c3aee248",
   "metadata": {},
   "outputs": [],
   "source": [
    "from src.qbv_core import *\n",
    "import src.qbv_core as qbv"
   ]
  },
  {
   "cell_type": "markdown",
   "id": "2171b97a",
   "metadata": {},
   "source": [
    "## Functionality test\n",
    "\n",
    "### Network topology\n",
    "\n",
    "    Taker_0        ------     Test switch_1     ------       Receiver_2\n",
    "    \n",
    "### Flows\n",
    "\n",
    "    "
   ]
  },
  {
   "cell_type": "code",
   "execution_count": 2,
   "id": "565502ad",
   "metadata": {},
   "outputs": [],
   "source": [
    "#### Create 1 traffic with packet size 100 byte, frequency 12500 Hz [10 Mbits / 100 byte = 10^7 * 10^-2 / 8]"
   ]
  },
  {
   "cell_type": "code",
   "execution_count": 3,
   "id": "92701442",
   "metadata": {},
   "outputs": [],
   "source": [
    "f_0 = frame(\n",
    "    id = 0,\n",
    "    flow_id = 0,\n",
    "    o = time_point(0,0)\n",
    ")\n",
    "\n",
    "s_0 = flow(\n",
    "    id = 0,\n",
    "    p = time_duration(1/12500 * 1e9),\n",
    "    l = 100,\n",
    "    pcp = 0,\n",
    "    frames = (f_0),\n",
    "    route = ([link(0, 1), link(1,2)])\n",
    ")\n",
    "\n",
    "### Initialize GCL\n",
    "\n",
    "gcl_0 = gcl(\n",
    "    t = [time_point(0,0), time_point(0,0)],\n",
    "    p = s_0.period,\n",
    "    e = [\n",
    "        [True],\n",
    "        [False],\n",
    "    ],\n",
    "    \n",
    ")\n",
    "\n",
    "\n",
    "#### Create 1 egress queue with speed 1000 mbits = [10^9 bit / second = 1/8 byte / nanosecond]\n",
    "\n",
    "sw1p0 = egress(\n",
    "    id = 0,\n",
    "    speed = 1/8,\n",
    "    gcl = gcl_0,\n",
    "    queue_nums = 1,\n",
    "    neighbor = 2,\n",
    "    clock = clock(time_point(0,0)),\n",
    "    queues = [queue()],\n",
    "    pcp_to_prio = {0:0},\n",
    "    prio_to_tc = {0:0},\n",
    ")\n",
    "\n",
    "### Create device switch1\n",
    "switch_1 = device(0, egress_ports=[sw1p0])\n",
    "\n",
    "\n",
    "### Register\n",
    "qbv._flows = []\n",
    "qbv._devices = []\n",
    "qbv._flows.append(s_0)\n",
    "qbv._devices.append(switch_1)"
   ]
  },
  {
   "cell_type": "code",
   "execution_count": null,
   "id": "7b0f8b89",
   "metadata": {},
   "outputs": [],
   "source": [
    "switch_1.recv(f_0)\n",
    "switch_1.run()"
   ]
  },
  {
   "cell_type": "code",
   "execution_count": null,
   "id": "d8806efd",
   "metadata": {},
   "outputs": [],
   "source": [
    "switch_1.egress_ports[0].clock.current_time"
   ]
  },
  {
   "cell_type": "markdown",
   "id": "ec42e68b",
   "metadata": {},
   "source": [
    "## Simulation environment\n",
    "\n",
    "\n",
    "\n",
    "\n",
    "    Talker 1\n",
    "    \n",
    "    Talker 2\n",
    "                  ------     Test switch     ------       Receiver\n",
    "    Talker 3\n",
    "    \n",
    "    Talker 4\n",
    "\n"
   ]
  },
  {
   "cell_type": "code",
   "execution_count": null,
   "id": "e1bcd3fc",
   "metadata": {},
   "outputs": [],
   "source": []
  },
  {
   "cell_type": "code",
   "execution_count": null,
   "id": "b87b8cf5",
   "metadata": {},
   "outputs": [],
   "source": []
  }
 ],
 "metadata": {
  "kernelspec": {
   "display_name": "Python 3.9.7 ('base')",
   "language": "python",
   "name": "python397jvsc74a57bd0c6e4e9f98eb68ad3b7c296f83d20e6de614cb42e90992a65aa266555a3137d0d"
  },
  "language_info": {
   "codemirror_mode": {
    "name": "ipython",
    "version": 3
   },
   "file_extension": ".py",
   "mimetype": "text/x-python",
   "name": "python",
   "nbconvert_exporter": "python",
   "pygments_lexer": "ipython3",
   "version": "3.9.7"
  }
 },
 "nbformat": 4,
 "nbformat_minor": 5
}
